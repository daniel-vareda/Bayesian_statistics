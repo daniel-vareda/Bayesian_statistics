{
 "cells": [
  {
   "cell_type": "markdown",
   "id": "7815cfba",
   "metadata": {},
   "source": [
    "# Notebook for learning Python TSA"
   ]
  },
  {
   "cell_type": "markdown",
   "id": "75bd5fd0",
   "metadata": {},
   "source": [
    "## Libraries"
   ]
  },
  {
   "cell_type": "code",
   "execution_count": 1,
   "id": "30b319ed",
   "metadata": {
    "tags": []
   },
   "outputs": [],
   "source": [
    "import datetime \n",
    "import pandas as pd\n",
    "import matplotlib.pyplot as plt\n",
    "import seaborn as sns\n",
    "import numpy as np \n",
    "from datetime import date\n",
    "from datetime import datetime\n",
    "from datetime import timedelta\n",
    "from scipy import stats\n",
    "from getpass import getpass\n",
    "import os"
   ]
  },
  {
   "cell_type": "markdown",
   "id": "df366fc6",
   "metadata": {},
   "source": [
    "## Basics - Date"
   ]
  },
  {
   "cell_type": "code",
   "execution_count": 2,
   "id": "bd8f8b7a",
   "metadata": {
    "tags": []
   },
   "outputs": [
    {
     "name": "stdout",
     "output_type": "stream",
     "text": [
      "2023-03-25\n"
     ]
    }
   ],
   "source": [
    "today = date.today()\n",
    "print(today)"
   ]
  },
  {
   "cell_type": "code",
   "execution_count": 3,
   "id": "821e83c1",
   "metadata": {
    "tags": []
   },
   "outputs": [
    {
     "name": "stdout",
     "output_type": "stream",
     "text": [
      "2023-03-02\n"
     ]
    }
   ],
   "source": [
    "other_date = date(2023,3,2)\n",
    "print(other_date)"
   ]
  },
  {
   "cell_type": "code",
   "execution_count": 4,
   "id": "0048ea8b",
   "metadata": {
    "tags": []
   },
   "outputs": [
    {
     "name": "stdout",
     "output_type": "stream",
     "text": [
      "2023-03-25 19:51:17.306409\n"
     ]
    }
   ],
   "source": [
    "now = datetime.now()\n",
    "print(now)"
   ]
  },
  {
   "cell_type": "code",
   "execution_count": 5,
   "id": "f3d963b6",
   "metadata": {
    "tags": []
   },
   "outputs": [
    {
     "name": "stdout",
     "output_type": "stream",
     "text": [
      "2023-03-02 20:50:30\n"
     ]
    }
   ],
   "source": [
    "some_date = datetime(2023,3,2,20,50,30)\n",
    "print(some_date)"
   ]
  },
  {
   "cell_type": "code",
   "execution_count": 6,
   "id": "4fe68b6e",
   "metadata": {
    "tags": []
   },
   "outputs": [
    {
     "data": {
      "text/plain": [
       "'2023-03-02T20:50:30'"
      ]
     },
     "execution_count": 6,
     "metadata": {},
     "output_type": "execute_result"
    }
   ],
   "source": [
    "some_date.isoformat()"
   ]
  },
  {
   "cell_type": "code",
   "execution_count": 7,
   "id": "0f76deb3",
   "metadata": {
    "tags": []
   },
   "outputs": [
    {
     "name": "stdout",
     "output_type": "stream",
     "text": [
      "365 days, 0:00:00\n"
     ]
    }
   ],
   "source": [
    "year = timedelta(days =365)\n",
    "print(year)"
   ]
  },
  {
   "cell_type": "code",
   "execution_count": 8,
   "id": "59d1d487",
   "metadata": {
    "tags": []
   },
   "outputs": [
    {
     "data": {
      "text/plain": [
       "datetime.timedelta(days=730)"
      ]
     },
     "execution_count": 8,
     "metadata": {},
     "output_type": "execute_result"
    }
   ],
   "source": [
    "year*2"
   ]
  },
  {
   "cell_type": "code",
   "execution_count": 9,
   "id": "9853f51e",
   "metadata": {
    "tags": []
   },
   "outputs": [
    {
     "name": "stdout",
     "output_type": "stream",
     "text": [
      "year: 2023\n"
     ]
    }
   ],
   "source": [
    "year = now.strftime(\"%Y\")\n",
    "print(\"year:\", year)\n"
   ]
  },
  {
   "cell_type": "markdown",
   "id": "5d6277e9",
   "metadata": {},
   "source": [
    "## Basics Pandas"
   ]
  },
  {
   "cell_type": "code",
   "execution_count": 10,
   "id": "e3d91ddd",
   "metadata": {
    "tags": []
   },
   "outputs": [
    {
     "name": "stdout",
     "output_type": "stream",
     "text": [
      "DatetimeIndex(['2023-01-01', '2023-01-02', '2023-01-03', '2023-01-04',\n",
      "               '2023-01-05', '2023-01-06', '2023-01-07', '2023-01-08',\n",
      "               '2023-01-09', '2023-01-10', '2023-01-11', '2023-01-12',\n",
      "               '2023-01-13', '2023-01-14', '2023-01-15', '2023-01-16',\n",
      "               '2023-01-17', '2023-01-18', '2023-01-19', '2023-01-20',\n",
      "               '2023-01-21', '2023-01-22', '2023-01-23', '2023-01-24',\n",
      "               '2023-01-25', '2023-01-26', '2023-01-27', '2023-01-28',\n",
      "               '2023-01-29', '2023-01-30'],\n",
      "              dtype='datetime64[ns]', freq='D')\n"
     ]
    }
   ],
   "source": [
    "rg = pd.date_range(start = '2023-01-01',\n",
    "                   end = '2023-01-30',\n",
    "                   freq = \"D\"\n",
    "                  )\n",
    "print(rg)"
   ]
  },
  {
   "cell_type": "code",
   "execution_count": 11,
   "id": "de621040",
   "metadata": {
    "tags": []
   },
   "outputs": [
    {
     "name": "stdout",
     "output_type": "stream",
     "text": [
      "0   2023-01-01\n",
      "1   2023-01-08\n",
      "2   2023-01-15\n",
      "3   2023-01-22\n",
      "4   2023-01-29\n",
      "dtype: datetime64[ns]\n"
     ]
    }
   ],
   "source": [
    "rg = pd.Series(pd.date_range(start = '2023-01-01',\n",
    "                   end = '2023-01-30',\n",
    "                   freq = \"W\"\n",
    "                  ))\n",
    "print(rg)"
   ]
  },
  {
   "cell_type": "code",
   "execution_count": 12,
   "id": "ec7c9e11",
   "metadata": {
    "tags": []
   },
   "outputs": [
    {
     "data": {
      "text/html": [
       "<div>\n",
       "<style scoped>\n",
       "    .dataframe tbody tr th:only-of-type {\n",
       "        vertical-align: middle;\n",
       "    }\n",
       "\n",
       "    .dataframe tbody tr th {\n",
       "        vertical-align: top;\n",
       "    }\n",
       "\n",
       "    .dataframe thead th {\n",
       "        text-align: right;\n",
       "    }\n",
       "</style>\n",
       "<table border=\"1\" class=\"dataframe\">\n",
       "  <thead>\n",
       "    <tr style=\"text-align: right;\">\n",
       "      <th></th>\n",
       "      <th>year</th>\n",
       "      <th>month</th>\n",
       "      <th>day</th>\n",
       "    </tr>\n",
       "  </thead>\n",
       "  <tbody>\n",
       "    <tr>\n",
       "      <th>0</th>\n",
       "      <td>2021</td>\n",
       "      <td>3</td>\n",
       "      <td>21</td>\n",
       "    </tr>\n",
       "    <tr>\n",
       "      <th>1</th>\n",
       "      <td>2022</td>\n",
       "      <td>4</td>\n",
       "      <td>22</td>\n",
       "    </tr>\n",
       "    <tr>\n",
       "      <th>2</th>\n",
       "      <td>2023</td>\n",
       "      <td>5</td>\n",
       "      <td>23</td>\n",
       "    </tr>\n",
       "  </tbody>\n",
       "</table>\n",
       "</div>"
      ],
      "text/plain": [
       "   year  month  day\n",
       "0  2021      3   21\n",
       "1  2022      4   22\n",
       "2  2023      5   23"
      ]
     },
     "execution_count": 12,
     "metadata": {},
     "output_type": "execute_result"
    }
   ],
   "source": [
    "df = pd.DataFrame({'year':[2021,2022,2023],\n",
    "                   'month':[3,4,5],\n",
    "                   'day':[21,22,23]\n",
    "                  })\n",
    "df.head()"
   ]
  },
  {
   "cell_type": "code",
   "execution_count": 13,
   "id": "a9971997",
   "metadata": {
    "tags": []
   },
   "outputs": [
    {
     "name": "stdout",
     "output_type": "stream",
     "text": [
      "0   2021-03-21\n",
      "1   2022-04-22\n",
      "2   2023-05-23\n",
      "dtype: datetime64[ns]\n"
     ]
    }
   ],
   "source": [
    "ts1 = pd.to_datetime(df)\n",
    "print(ts1)"
   ]
  },
  {
   "cell_type": "code",
   "execution_count": 14,
   "id": "e8f91a9e",
   "metadata": {
    "tags": []
   },
   "outputs": [
    {
     "data": {
      "text/plain": [
       "0     NaN\n",
       "1     NaN\n",
       "2     6.0\n",
       "3     9.0\n",
       "4    12.0\n",
       "dtype: float64"
      ]
     },
     "execution_count": 14,
     "metadata": {},
     "output_type": "execute_result"
    }
   ],
   "source": [
    "s = pd.Series([1,2,3,4,5])\n",
    "s.rolling(3).sum()"
   ]
  },
  {
   "cell_type": "code",
   "execution_count": 15,
   "id": "8cc91d16",
   "metadata": {
    "tags": []
   },
   "outputs": [
    {
     "name": "stdout",
     "output_type": "stream",
     "text": [
      "2023-01-01   -0.427497\n",
      "2023-01-02   -0.024396\n",
      "2023-01-03    0.077028\n",
      "2023-01-04    0.256592\n",
      "2023-01-05    1.592098\n",
      "2023-01-06   -1.443682\n",
      "2023-01-07   -0.185834\n",
      "2023-01-08    0.714770\n",
      "2023-01-09    0.170652\n",
      "2023-01-10    0.117478\n",
      "2023-01-11    0.097450\n",
      "2023-01-12    1.767760\n",
      "2023-01-13   -0.360227\n",
      "2023-01-14    0.135267\n",
      "2023-01-15   -0.645683\n",
      "2023-01-16    1.079168\n",
      "2023-01-17   -0.498053\n",
      "2023-01-18    0.997842\n",
      "2023-01-19   -0.677914\n",
      "2023-01-20    1.037563\n",
      "2023-01-21   -0.980359\n",
      "2023-01-22    2.834814\n",
      "2023-01-23    1.689220\n",
      "2023-01-24   -0.269021\n",
      "2023-01-25   -1.415927\n",
      "2023-01-26   -0.711388\n",
      "2023-01-27    0.428642\n",
      "2023-01-28   -0.915751\n",
      "2023-01-29    0.041497\n",
      "2023-01-30    1.342787\n",
      "2023-01-31    0.513890\n",
      "2023-02-01   -0.075558\n",
      "Freq: D, dtype: float64\n"
     ]
    }
   ],
   "source": [
    "rng = pd.date_range(start = '2023-01-01',\n",
    "                    end = '2023-02-01',\n",
    "                    freq = 'D'\n",
    "                   )\n",
    "ts = pd.Series(np.random.randn(len(rng)),index=rng)\n",
    "print(ts)"
   ]
  },
  {
   "cell_type": "code",
   "execution_count": 16,
   "id": "d0fc9ad5",
   "metadata": {
    "tags": []
   },
   "outputs": [
    {
     "data": {
      "text/plain": [
       "2023-01-10    0.117478\n",
       "2023-01-11    0.097450\n",
       "2023-01-12    1.767760\n",
       "2023-01-13   -0.360227\n",
       "2023-01-14    0.135267\n",
       "2023-01-15   -0.645683\n",
       "2023-01-16    1.079168\n",
       "2023-01-17   -0.498053\n",
       "2023-01-18    0.997842\n",
       "2023-01-19   -0.677914\n",
       "2023-01-20    1.037563\n",
       "Freq: D, dtype: float64"
      ]
     },
     "execution_count": 16,
     "metadata": {},
     "output_type": "execute_result"
    }
   ],
   "source": [
    "ts['2023-01-10':'2023-01-20']"
   ]
  },
  {
   "cell_type": "markdown",
   "id": "f88a5384",
   "metadata": {},
   "source": [
    "## Dataset Loading"
   ]
  },
  {
   "cell_type": "code",
   "execution_count": 17,
   "id": "72a86a88",
   "metadata": {
    "tags": []
   },
   "outputs": [],
   "source": [
    "# In pandas you can pass the url directly into read_csv()\n",
    "df = pd.read_csv(\n",
    "    'https://raw.githubusercontent.com/owid/owid-datasets/master/datasets/Air%20pollution%20by%20city%20-%20Fouquet%20and%20DPCC%20(2011)/Air%20pollution%20by%20city%20-%20Fouquet%20and%20DPCC%20(2011).csv'\n",
    ")"
   ]
  },
  {
   "cell_type": "code",
   "execution_count": 18,
   "id": "14c8180a",
   "metadata": {
    "tags": []
   },
   "outputs": [
    {
     "data": {
      "text/html": [
       "<div>\n",
       "<style scoped>\n",
       "    .dataframe tbody tr th:only-of-type {\n",
       "        vertical-align: middle;\n",
       "    }\n",
       "\n",
       "    .dataframe tbody tr th {\n",
       "        vertical-align: top;\n",
       "    }\n",
       "\n",
       "    .dataframe thead th {\n",
       "        text-align: right;\n",
       "    }\n",
       "</style>\n",
       "<table border=\"1\" class=\"dataframe\">\n",
       "  <thead>\n",
       "    <tr style=\"text-align: right;\">\n",
       "      <th></th>\n",
       "      <th>Entity</th>\n",
       "      <th>Year</th>\n",
       "      <th>Smoke (Fouquet and DPCC (2011))</th>\n",
       "      <th>Suspended Particulate Matter (SPM) (Fouquet and DPCC (2011))</th>\n",
       "    </tr>\n",
       "  </thead>\n",
       "  <tbody>\n",
       "    <tr>\n",
       "      <th>0</th>\n",
       "      <td>Delhi</td>\n",
       "      <td>1997</td>\n",
       "      <td>NaN</td>\n",
       "      <td>363.0</td>\n",
       "    </tr>\n",
       "    <tr>\n",
       "      <th>1</th>\n",
       "      <td>Delhi</td>\n",
       "      <td>1998</td>\n",
       "      <td>NaN</td>\n",
       "      <td>378.0</td>\n",
       "    </tr>\n",
       "    <tr>\n",
       "      <th>2</th>\n",
       "      <td>Delhi</td>\n",
       "      <td>1999</td>\n",
       "      <td>NaN</td>\n",
       "      <td>375.0</td>\n",
       "    </tr>\n",
       "    <tr>\n",
       "      <th>3</th>\n",
       "      <td>Delhi</td>\n",
       "      <td>2000</td>\n",
       "      <td>NaN</td>\n",
       "      <td>431.0</td>\n",
       "    </tr>\n",
       "    <tr>\n",
       "      <th>4</th>\n",
       "      <td>Delhi</td>\n",
       "      <td>2001</td>\n",
       "      <td>NaN</td>\n",
       "      <td>382.0</td>\n",
       "    </tr>\n",
       "  </tbody>\n",
       "</table>\n",
       "</div>"
      ],
      "text/plain": [
       "  Entity  Year  Smoke (Fouquet and DPCC (2011))  \\\n",
       "0  Delhi  1997                              NaN   \n",
       "1  Delhi  1998                              NaN   \n",
       "2  Delhi  1999                              NaN   \n",
       "3  Delhi  2000                              NaN   \n",
       "4  Delhi  2001                              NaN   \n",
       "\n",
       "   Suspended Particulate Matter (SPM) (Fouquet and DPCC (2011))  \n",
       "0                                              363.0             \n",
       "1                                              378.0             \n",
       "2                                              375.0             \n",
       "3                                              431.0             \n",
       "4                                              382.0             "
      ]
     },
     "execution_count": 18,
     "metadata": {},
     "output_type": "execute_result"
    }
   ],
   "source": [
    "df.head()"
   ]
  },
  {
   "cell_type": "code",
   "execution_count": 19,
   "id": "a804185a",
   "metadata": {
    "tags": []
   },
   "outputs": [
    {
     "data": {
      "text/plain": [
       "331"
      ]
     },
     "execution_count": 19,
     "metadata": {},
     "output_type": "execute_result"
    }
   ],
   "source": [
    "len(df)"
   ]
  },
  {
   "cell_type": "code",
   "execution_count": 20,
   "id": "89b6ee06",
   "metadata": {
    "tags": []
   },
   "outputs": [
    {
     "data": {
      "text/plain": [
       "Index(['Entity', 'Year', 'Smoke (Fouquet and DPCC (2011))',\n",
       "       'Suspended Particulate Matter (SPM) (Fouquet and DPCC (2011))'],\n",
       "      dtype='object')"
      ]
     },
     "execution_count": 20,
     "metadata": {},
     "output_type": "execute_result"
    }
   ],
   "source": [
    "df.columns"
   ]
  },
  {
   "cell_type": "code",
   "execution_count": 21,
   "id": "71f674cd",
   "metadata": {
    "tags": []
   },
   "outputs": [],
   "source": [
    "df = df.rename(columns = {'Smoke (Fouquet and DPCC (2011))':'smoke',\n",
    "                          'Entity':'city',\n",
    "                         'Suspended Particulate Matter (SPM) (Fouquet and DPCC (2011))':'spm'\n",
    "                         })"
   ]
  },
  {
   "cell_type": "code",
   "execution_count": 22,
   "id": "0b7bc533",
   "metadata": {
    "tags": []
   },
   "outputs": [
    {
     "data": {
      "text/plain": [
       "Index(['city', 'Year', 'smoke', 'spm'], dtype='object')"
      ]
     },
     "execution_count": 22,
     "metadata": {},
     "output_type": "execute_result"
    }
   ],
   "source": [
    "df.columns"
   ]
  },
  {
   "cell_type": "code",
   "execution_count": 23,
   "id": "c89ed908",
   "metadata": {
    "tags": []
   },
   "outputs": [
    {
     "data": {
      "text/plain": [
       "city      object\n",
       "Year       int64\n",
       "smoke    float64\n",
       "spm      float64\n",
       "dtype: object"
      ]
     },
     "execution_count": 23,
     "metadata": {},
     "output_type": "execute_result"
    }
   ],
   "source": [
    "df.dtypes"
   ]
  },
  {
   "cell_type": "code",
   "execution_count": 24,
   "id": "a441032c",
   "metadata": {
    "tags": []
   },
   "outputs": [
    {
     "name": "stdout",
     "output_type": "stream",
     "text": [
      "['Delhi' 'London']\n"
     ]
    }
   ],
   "source": [
    "print(df.city.unique())"
   ]
  },
  {
   "cell_type": "code",
   "execution_count": 25,
   "id": "a6f7ecb6",
   "metadata": {
    "tags": []
   },
   "outputs": [
    {
     "data": {
      "text/html": [
       "<div>\n",
       "<style scoped>\n",
       "    .dataframe tbody tr th:only-of-type {\n",
       "        vertical-align: middle;\n",
       "    }\n",
       "\n",
       "    .dataframe tbody tr th {\n",
       "        vertical-align: top;\n",
       "    }\n",
       "\n",
       "    .dataframe thead th {\n",
       "        text-align: right;\n",
       "    }\n",
       "</style>\n",
       "<table border=\"1\" class=\"dataframe\">\n",
       "  <thead>\n",
       "    <tr style=\"text-align: right;\">\n",
       "      <th></th>\n",
       "      <th>Year</th>\n",
       "      <th>smoke</th>\n",
       "      <th>spm</th>\n",
       "    </tr>\n",
       "  </thead>\n",
       "  <tbody>\n",
       "    <tr>\n",
       "      <th>count</th>\n",
       "      <td>331.000000</td>\n",
       "      <td>301.000000</td>\n",
       "      <td>331.000000</td>\n",
       "    </tr>\n",
       "    <tr>\n",
       "      <th>mean</th>\n",
       "      <td>1864.154079</td>\n",
       "      <td>210.296440</td>\n",
       "      <td>365.970050</td>\n",
       "    </tr>\n",
       "    <tr>\n",
       "      <th>std</th>\n",
       "      <td>94.366037</td>\n",
       "      <td>88.543288</td>\n",
       "      <td>172.512674</td>\n",
       "    </tr>\n",
       "    <tr>\n",
       "      <th>min</th>\n",
       "      <td>1700.000000</td>\n",
       "      <td>13.750000</td>\n",
       "      <td>15.000000</td>\n",
       "    </tr>\n",
       "    <tr>\n",
       "      <th>25%</th>\n",
       "      <td>1782.500000</td>\n",
       "      <td>168.571429</td>\n",
       "      <td>288.474026</td>\n",
       "    </tr>\n",
       "    <tr>\n",
       "      <th>50%</th>\n",
       "      <td>1865.000000</td>\n",
       "      <td>208.214286</td>\n",
       "      <td>375.324675</td>\n",
       "    </tr>\n",
       "    <tr>\n",
       "      <th>75%</th>\n",
       "      <td>1947.500000</td>\n",
       "      <td>291.818182</td>\n",
       "      <td>512.609209</td>\n",
       "    </tr>\n",
       "    <tr>\n",
       "      <th>max</th>\n",
       "      <td>2016.000000</td>\n",
       "      <td>342.857143</td>\n",
       "      <td>623.376623</td>\n",
       "    </tr>\n",
       "  </tbody>\n",
       "</table>\n",
       "</div>"
      ],
      "text/plain": [
       "              Year       smoke         spm\n",
       "count   331.000000  301.000000  331.000000\n",
       "mean   1864.154079  210.296440  365.970050\n",
       "std      94.366037   88.543288  172.512674\n",
       "min    1700.000000   13.750000   15.000000\n",
       "25%    1782.500000  168.571429  288.474026\n",
       "50%    1865.000000  208.214286  375.324675\n",
       "75%    1947.500000  291.818182  512.609209\n",
       "max    2016.000000  342.857143  623.376623"
      ]
     },
     "execution_count": 25,
     "metadata": {},
     "output_type": "execute_result"
    }
   ],
   "source": [
    "df.describe()"
   ]
  },
  {
   "cell_type": "code",
   "execution_count": 26,
   "id": "39034dba",
   "metadata": {
    "tags": []
   },
   "outputs": [
    {
     "data": {
      "text/plain": [
       "1700"
      ]
     },
     "execution_count": 26,
     "metadata": {},
     "output_type": "execute_result"
    }
   ],
   "source": [
    "df.Year.min()"
   ]
  },
  {
   "cell_type": "code",
   "execution_count": 27,
   "id": "8aabae90",
   "metadata": {
    "tags": []
   },
   "outputs": [
    {
     "data": {
      "text/plain": [
       "2016"
      ]
     },
     "execution_count": 27,
     "metadata": {},
     "output_type": "execute_result"
    }
   ],
   "source": [
    "df.Year.max()"
   ]
  },
  {
   "cell_type": "code",
   "execution_count": 28,
   "id": "30369a35",
   "metadata": {
    "tags": []
   },
   "outputs": [],
   "source": [
    "df['Year'] = df['Year'].apply(\n",
    "    lambda x: datetime.strptime(str(x), '%Y')\n",
    ")"
   ]
  },
  {
   "cell_type": "code",
   "execution_count": 29,
   "id": "668eb4b6",
   "metadata": {
    "tags": []
   },
   "outputs": [
    {
     "data": {
      "text/plain": [
       "city             object\n",
       "Year     datetime64[ns]\n",
       "smoke           float64\n",
       "spm             float64\n",
       "dtype: object"
      ]
     },
     "execution_count": 29,
     "metadata": {},
     "output_type": "execute_result"
    }
   ],
   "source": [
    "df.dtypes"
   ]
  },
  {
   "cell_type": "code",
   "execution_count": 30,
   "id": "e3dd668a",
   "metadata": {
    "tags": []
   },
   "outputs": [
    {
     "name": "stdout",
     "output_type": "stream",
     "text": [
      "<class 'pandas.core.frame.DataFrame'>\n",
      "RangeIndex: 331 entries, 0 to 330\n",
      "Data columns (total 4 columns):\n",
      " #   Column  Non-Null Count  Dtype         \n",
      "---  ------  --------------  -----         \n",
      " 0   city    331 non-null    object        \n",
      " 1   Year    331 non-null    datetime64[ns]\n",
      " 2   smoke   301 non-null    float64       \n",
      " 3   spm     331 non-null    float64       \n",
      "dtypes: datetime64[ns](1), float64(2), object(1)\n",
      "memory usage: 10.5+ KB\n"
     ]
    }
   ],
   "source": [
    "df.info()"
   ]
  },
  {
   "cell_type": "code",
   "execution_count": 31,
   "id": "7ed5c778",
   "metadata": {
    "tags": []
   },
   "outputs": [
    {
     "data": {
      "text/plain": [
       "city     0.000000\n",
       "Year     0.000000\n",
       "smoke    0.090634\n",
       "spm      0.000000\n",
       "dtype: float64"
      ]
     },
     "execution_count": 31,
     "metadata": {},
     "output_type": "execute_result"
    }
   ],
   "source": [
    "df.isnull().mean()"
   ]
  },
  {
   "cell_type": "code",
   "execution_count": 32,
   "id": "31c2922d",
   "metadata": {
    "tags": []
   },
   "outputs": [
    {
     "data": {
      "text/plain": [
       "Text(0, 0.5, 'Frequency')"
      ]
     },
     "execution_count": 32,
     "metadata": {},
     "output_type": "execute_result"
    },
    {
     "data": {
      "image/png": "[encoded data removed]",
      "text/plain": [
       "<Figure size 640x480 with 1 Axes>"
      ]
     },
     "metadata": {},
     "output_type": "display_data"
    }
   ],
   "source": [
    "n, bins, patches = plt.hist(x=df['spm'],\n",
    "                            bins = 'auto',\n",
    "                            alpha = 0.7,\n",
    "                            rwidth = 0.85\n",
    "                           )\n",
    "plt.title('SPM Histogram')\n",
    "plt.grid(axis = 'y', alpha = 0.75)\n",
    "plt.xlabel('SPM')\n",
    "plt.ylabel('Frequency')"
   ]
  },
  {
   "cell_type": "markdown",
   "id": "3af82586",
   "metadata": {},
   "source": [
    "## Correlations"
   ]
  },
  {
   "cell_type": "code",
   "execution_count": 33,
   "id": "11d81f5e",
   "metadata": {
    "tags": []
   },
   "outputs": [
    {
     "data": {
      "text/plain": [
       "(0.9999999999999999, 0.0)"
      ]
     },
     "execution_count": 33,
     "metadata": {},
     "output_type": "execute_result"
    }
   ],
   "source": [
    "def ignore_nans(a,b):\n",
    "    index = ~a.isnull() & ~b.isnull()\n",
    "    return a[index], b[index]\n",
    "\n",
    "stats.pearsonr(*ignore_nans(df['smoke'],df['spm']))"
   ]
  },
  {
   "cell_type": "code",
   "execution_count": 37,
   "id": "e8700806",
   "metadata": {
    "tags": []
   },
   "outputs": [],
   "source": [
    "import dython"
   ]
  },
  {
   "cell_type": "code",
   "execution_count": 43,
   "id": "7438a01f-871a-4331-b884-dd77a0cdf03e",
   "metadata": {
    "tags": []
   },
   "outputs": [
    {
     "data": {
      "text/plain": [
       "<Figure size 1200x600 with 0 Axes>"
      ]
     },
     "metadata": {},
     "output_type": "display_data"
    },
    {
     "data": {
      "image/png": "[encoded data removed]",
      "text/plain": [
       "<Figure size 600x600 with 3 Axes>"
      ]
     },
     "metadata": {},
     "output_type": "display_data"
    }
   ],
   "source": [
    "plt.figure(figsize=(12, 6))\n",
    "sns.jointplot(\n",
    "    x='smoke', y='spm',\n",
    "    edgecolor='white',\n",
    "    data=df\n",
    ")\n",
    "plt.xlabel('Smoke')\n",
    "plt.ylabel('SPM');"
   ]
  },
  {
   "cell_type": "code",
   "execution_count": 45,
   "id": "72e8e9b3-47d2-43cd-acfc-3c2bf95367c1",
   "metadata": {
    "tags": []
   },
   "outputs": [
    {
     "data": {
      "image/png": "[encoded data removed]",
      "text/plain": [
       "<Figure size 1200x600 with 1 Axes>"
      ]
     },
     "metadata": {},
     "output_type": "display_data"
    }
   ],
   "source": [
    "pollution = df.pivot(\"Year\", \"city\", \"spm\")\n",
    "plt.figure(figsize=(12, 6))\n",
    "sns.lineplot(data=pollution)\n",
    "plt.ylabel('SPM');"
   ]
  },
  {
   "cell_type": "code",
   "execution_count": 48,
   "id": "c1354566-ec41-474f-9378-0088845ecea2",
   "metadata": {
    "tags": []
   },
   "outputs": [
    {
     "data": {
      "image/png": "[encoded data removed]",
      "text/plain": [
       "<Figure size 1200x600 with 1 Axes>"
      ]
     },
     "metadata": {},
     "output_type": "display_data"
    }
   ],
   "source": [
    "plt.figure(figsize=(12, 6))\n",
    "pd.plotting.autocorrelation_plot(pollution['London']);"
   ]
  },
  {
   "cell_type": "code",
   "execution_count": null,
   "id": "2cf351b5-e83c-4a87-90ba-7d3a8da319a8",
   "metadata": {},
   "outputs": [],
   "source": []
  }
 ],
 "metadata": {
  "kernelspec": {
   "display_name": "conda_amazonei_pytorch_latest_p37",
   "language": "python",
   "name": "conda_amazonei_pytorch_latest_p37"
  },
  "language_info": {
   "codemirror_mode": {
    "name": "ipython",
    "version": 3
   },
   "file_extension": ".py",
   "mimetype": "text/x-python",
   "name": "python",
   "nbconvert_exporter": "python",
   "pygments_lexer": "ipython3",
   "version": "3.7.10"
  }
 },
 "nbformat": 4,
 "nbformat_minor": 5
}
