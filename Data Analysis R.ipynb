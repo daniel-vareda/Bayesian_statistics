{
 "cells": [
  {
   "cell_type": "code",
   "execution_count": 1,
   "id": "d214956e-487d-43cf-9736-7fa00b902da0",
   "metadata": {
    "tags": []
   },
   "outputs": [
    {
     "data": {
      "text/html": [
       "<table class=\"dataframe\">\n",
       "<caption>A data.frame: 6 × 1</caption>\n",
       "<thead>\n",
       "\t<tr><th></th><th scope=col>Category..All.categories</th></tr>\n",
       "\t<tr><th></th><th scope=col>&lt;chr&gt;</th></tr>\n",
       "</thead>\n",
       "<tbody>\n",
       "\t<tr><th scope=row>Week</th><td>Health food: (Germany)</td></tr>\n",
       "\t<tr><th scope=row>2022-10-02</th><td>33                    </td></tr>\n",
       "\t<tr><th scope=row>2022-10-09</th><td>80                    </td></tr>\n",
       "\t<tr><th scope=row>2022-10-16</th><td>35                    </td></tr>\n",
       "\t<tr><th scope=row>2022-10-23</th><td>19                    </td></tr>\n",
       "\t<tr><th scope=row>2022-10-30</th><td>34                    </td></tr>\n",
       "</tbody>\n",
       "</table>\n"
      ],
      "text/latex": [
       "A data.frame: 6 × 1\n",
       "\\begin{tabular}{r|l}\n",
       "  & Category..All.categories\\\\\n",
       "  & <chr>\\\\\n",
       "\\hline\n",
       "\tWeek & Health food: (Germany)\\\\\n",
       "\t2022-10-02 & 33                    \\\\\n",
       "\t2022-10-09 & 80                    \\\\\n",
       "\t2022-10-16 & 35                    \\\\\n",
       "\t2022-10-23 & 19                    \\\\\n",
       "\t2022-10-30 & 34                    \\\\\n",
       "\\end{tabular}\n"
      ],
      "text/markdown": [
       "\n",
       "A data.frame: 6 × 1\n",
       "\n",
       "| <!--/--> | Category..All.categories &lt;chr&gt; |\n",
       "|---|---|\n",
       "| Week | Health food: (Germany) |\n",
       "| 2022-10-02 | 33                     |\n",
       "| 2022-10-09 | 80                     |\n",
       "| 2022-10-16 | 35                     |\n",
       "| 2022-10-23 | 19                     |\n",
       "| 2022-10-30 | 34                     |\n",
       "\n"
      ],
      "text/plain": [
       "           Category..All.categories\n",
       "Week       Health food: (Germany)  \n",
       "2022-10-02 33                      \n",
       "2022-10-09 80                      \n",
       "2022-10-16 35                      \n",
       "2022-10-23 19                      \n",
       "2022-10-30 34                      "
      ]
     },
     "metadata": {},
     "output_type": "display_data"
    }
   ],
   "source": [
    "df <- read.csv(file = 'multiTimeline.csv')\n",
    "head(df)"
   ]
  },
  {
   "cell_type": "code",
   "execution_count": 1,
   "id": "67e6a1f5-5eed-4b7a-8388-dbcb21d495b8",
   "metadata": {
    "tags": []
   },
   "outputs": [
    {
     "name": "stderr",
     "output_type": "stream",
     "text": [
      "also installing the dependencies ‘markdown’, ‘shinystan’\n",
      "\n",
      "\n",
      "Warning message in install.packages(\"brms\"):\n",
      "“installation of package ‘markdown’ had non-zero exit status”\n",
      "Warning message in install.packages(\"brms\"):\n",
      "“installation of package ‘shinystan’ had non-zero exit status”\n",
      "Warning message in install.packages(\"brms\"):\n",
      "“installation of package ‘brms’ had non-zero exit status”\n",
      "Updating HTML index of packages in '.Library'\n",
      "\n",
      "Making 'packages.html' ...\n",
      " done\n",
      "\n"
     ]
    }
   ],
   "source": [
    "install.packages(\"brms\")\n",
    "# library(brms)\n"
   ]
  },
  {
   "cell_type": "code",
   "execution_count": 6,
   "id": "1b1d3a48-e55d-4fc8-a59b-18494d110d04",
   "metadata": {
    "tags": []
   },
   "outputs": [
    {
     "name": "stdout",
     "output_type": "stream",
     "text": [
      "[1] \"trend\"\n"
     ]
    }
   ],
   "source": [
    "# Print column names\n",
    "col_names <- colnames(df)\n",
    "print(col_names)"
   ]
  },
  {
   "cell_type": "code",
   "execution_count": 5,
   "id": "2aff7487-dba6-4a48-addd-80830b4e77aa",
   "metadata": {
    "tags": []
   },
   "outputs": [],
   "source": [
    "colnames(df) <- c(\"trend\")"
   ]
  },
  {
   "cell_type": "code",
   "execution_count": 7,
   "id": "ca9f79c9-9a64-4646-8880-1aa32df950d8",
   "metadata": {
    "tags": []
   },
   "outputs": [
    {
     "name": "stderr",
     "output_type": "stream",
     "text": [
      "Warning message in eval(expr, envir, enclos):\n",
      "“NAs introduced by coercion”\n"
     ]
    },
    {
     "ename": "ERROR",
     "evalue": "Error in brm(y ~ ar(p = 1), data = df.frame(y = y), family = gaussian()): could not find function \"brm\"\n",
     "output_type": "error",
     "traceback": [
      "Error in brm(y ~ ar(p = 1), data = df.frame(y = y), family = gaussian()): could not find function \"brm\"\nTraceback:\n"
     ]
    }
   ],
   "source": [
    "# Data\n",
    "y <- as.numeric(df$`trend`)\n",
    "\n",
    "# Bayesian AR(1) model\n",
    "fit <- brm(y ~ ar(p = 1), data = df.frame(y = y), family = gaussian())\n"
   ]
  },
  {
   "cell_type": "code",
   "execution_count": null,
   "id": "dac5dd12-ef1e-43b7-b4f7-d5720f70e5cc",
   "metadata": {},
   "outputs": [],
   "source": [
    "# Summary of the model\n",
    "summary(fit)\n"
   ]
  },
  {
   "cell_type": "code",
   "execution_count": null,
   "id": "14319d24-7979-4101-9bb6-eff5609f0bba",
   "metadata": {},
   "outputs": [],
   "source": [
    "forecast_values <- forecast(fit, newdata = data.frame(y = tail(y, 1)), nsamples = 10)\n"
   ]
  },
  {
   "cell_type": "code",
   "execution_count": null,
   "id": "ae72f918-bcbd-4629-90a3-8e7123f71384",
   "metadata": {},
   "outputs": [],
   "source": []
  },
  {
   "cell_type": "code",
   "execution_count": null,
   "id": "a8e6b829-6d88-48d8-927d-26f61a6664da",
   "metadata": {},
   "outputs": [],
   "source": []
  },
  {
   "cell_type": "code",
   "execution_count": null,
   "id": "7aa53698-103e-4468-be3a-5e4607e24181",
   "metadata": {},
   "outputs": [],
   "source": []
  },
  {
   "cell_type": "code",
   "execution_count": null,
   "id": "caa94042-85f1-45f5-96b6-a194764d0f8e",
   "metadata": {},
   "outputs": [],
   "source": []
  }
 ],
 "metadata": {
  "kernelspec": {
   "display_name": "R",
   "language": "R",
   "name": "ir"
  },
  "language_info": {
   "codemirror_mode": "r",
   "file_extension": ".r",
   "mimetype": "text/x-r-source",
   "name": "R",
   "pygments_lexer": "r",
   "version": "4.2.3"
  }
 },
 "nbformat": 4,
 "nbformat_minor": 5
}
