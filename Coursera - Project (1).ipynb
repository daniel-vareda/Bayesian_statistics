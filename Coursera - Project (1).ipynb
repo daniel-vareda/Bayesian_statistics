{
 "cells": [
  {
   "cell_type": "markdown",
   "id": "e14f830f-3af0-4ebf-8fd4-0a14c2329e5f",
   "metadata": {},
   "source": [
    "# Notebook for Coursera Program\n",
    "Daniel Vareda\n"
   ]
  },
  {
   "cell_type": "markdown",
   "id": "a82b81e1-d05f-44f2-b231-d1972ae37a71",
   "metadata": {},
   "source": [
    "**Hypothesis**:\n",
    "\n",
    "\n",
    "Number of Area in square feet can influence the price"
   ]
  },
  {
   "cell_type": "markdown",
   "id": "e7728b7e-b235-4cf3-aa37-b55c18968e35",
   "metadata": {},
   "source": [
    "## Libraries"
   ]
  },
  {
   "cell_type": "code",
   "execution_count": 1,
   "id": "369d7eb0-4be1-448f-8c01-d012287335c2",
   "metadata": {
    "tags": []
   },
   "outputs": [],
   "source": [
    "# !pip install arviz\n",
    "# !pip install pymc3"
   ]
  },
  {
   "cell_type": "code",
   "execution_count": 2,
   "id": "07971c60-aa9b-418a-9ee2-80799db1db12",
   "metadata": {
    "tags": []
   },
   "outputs": [
    {
     "name": "stdout",
     "output_type": "stream",
     "text": [
      "Running on PyMC3 v3.11.5\n"
     ]
    }
   ],
   "source": [
    "from scipy import stats\n",
    "import arviz as az\n",
    "import numpy as np\n",
    "import matplotlib.pyplot as plt\n",
    "import pymc3 as pm\n",
    "import seaborn as sns\n",
    "import pandas as pd\n",
    "from theano import shared\n",
    "from sklearn import preprocessing\n",
    "from scipy.stats import gamma\n",
    "\n",
    "print('Running on PyMC3 v{}'.format(pm.__version__))"
   ]
  },
  {
   "cell_type": "code",
   "execution_count": 3,
   "id": "33ca8e1c-1d20-42ba-b009-93d81c464040",
   "metadata": {
    "tags": []
   },
   "outputs": [],
   "source": [
    "pd.set_option('display.float_format', '{:.2f}'.format)"
   ]
  },
  {
   "cell_type": "markdown",
   "id": "84484980-2a84-4aed-be5b-abc588d60016",
   "metadata": {},
   "source": [
    "## Reading and Preparing Data"
   ]
  },
  {
   "cell_type": "markdown",
   "id": "9d6827b4-6453-4a40-9782-caaf8071c76d",
   "metadata": {},
   "source": [
    "Reference Dataset:\n",
    "[London House Price](https://www.kaggle.com/datasets/arnavkulkarni/housing-prices-in-london) "
   ]
  },
  {
   "cell_type": "code",
   "execution_count": 4,
   "id": "0376885b-2b7c-4ff1-b399-88727c8429d5",
   "metadata": {
    "tags": []
   },
   "outputs": [],
   "source": [
    "import pandas as pd\n",
    "\n",
    "data = pd.read_csv('London.csv')\n",
    "data.drop(data.columns[0], axis=1, inplace=True)"
   ]
  },
  {
   "cell_type": "code",
   "execution_count": 5,
   "id": "568f5e2a-02a5-4046-9feb-ba206540e67c",
   "metadata": {
    "tags": []
   },
   "outputs": [
    {
     "data": {
      "text/html": [
       "<div>\n",
       "<style scoped>\n",
       "    .dataframe tbody tr th:only-of-type {\n",
       "        vertical-align: middle;\n",
       "    }\n",
       "\n",
       "    .dataframe tbody tr th {\n",
       "        vertical-align: top;\n",
       "    }\n",
       "\n",
       "    .dataframe thead th {\n",
       "        text-align: right;\n",
       "    }\n",
       "</style>\n",
       "<table border=\"1\" class=\"dataframe\">\n",
       "  <thead>\n",
       "    <tr style=\"text-align: right;\">\n",
       "      <th></th>\n",
       "      <th>Property Name</th>\n",
       "      <th>Price</th>\n",
       "      <th>House Type</th>\n",
       "      <th>Area in sq ft</th>\n",
       "      <th>No. of Bedrooms</th>\n",
       "      <th>No. of Bathrooms</th>\n",
       "      <th>No. of Receptions</th>\n",
       "      <th>Location</th>\n",
       "      <th>City/County</th>\n",
       "      <th>Postal Code</th>\n",
       "    </tr>\n",
       "  </thead>\n",
       "  <tbody>\n",
       "    <tr>\n",
       "      <th>3475</th>\n",
       "      <td>One Lillie Square</td>\n",
       "      <td>3350000</td>\n",
       "      <td>New development</td>\n",
       "      <td>1410</td>\n",
       "      <td>3</td>\n",
       "      <td>3</td>\n",
       "      <td>3</td>\n",
       "      <td>NaN</td>\n",
       "      <td>Lillie Square</td>\n",
       "      <td>SW6 1UE</td>\n",
       "    </tr>\n",
       "    <tr>\n",
       "      <th>3476</th>\n",
       "      <td>St. James's Street</td>\n",
       "      <td>5275000</td>\n",
       "      <td>Flat / Apartment</td>\n",
       "      <td>1749</td>\n",
       "      <td>3</td>\n",
       "      <td>3</td>\n",
       "      <td>3</td>\n",
       "      <td>St James's</td>\n",
       "      <td>London</td>\n",
       "      <td>SW1A 1JT</td>\n",
       "    </tr>\n",
       "    <tr>\n",
       "      <th>3477</th>\n",
       "      <td>Ingram Avenue</td>\n",
       "      <td>5995000</td>\n",
       "      <td>House</td>\n",
       "      <td>4435</td>\n",
       "      <td>6</td>\n",
       "      <td>6</td>\n",
       "      <td>6</td>\n",
       "      <td>Hampstead Garden Suburb</td>\n",
       "      <td>London</td>\n",
       "      <td>NW11 6TG</td>\n",
       "    </tr>\n",
       "    <tr>\n",
       "      <th>3478</th>\n",
       "      <td>Cork Street</td>\n",
       "      <td>6300000</td>\n",
       "      <td>New development</td>\n",
       "      <td>1506</td>\n",
       "      <td>3</td>\n",
       "      <td>3</td>\n",
       "      <td>3</td>\n",
       "      <td>Mayfair</td>\n",
       "      <td>London</td>\n",
       "      <td>W1S 3AR</td>\n",
       "    </tr>\n",
       "    <tr>\n",
       "      <th>3479</th>\n",
       "      <td>Courtenay Avenue</td>\n",
       "      <td>8650000</td>\n",
       "      <td>House</td>\n",
       "      <td>5395</td>\n",
       "      <td>6</td>\n",
       "      <td>6</td>\n",
       "      <td>6</td>\n",
       "      <td>Highgate</td>\n",
       "      <td>London</td>\n",
       "      <td>N6 4LP</td>\n",
       "    </tr>\n",
       "  </tbody>\n",
       "</table>\n",
       "</div>"
      ],
      "text/plain": [
       "           Property Name    Price        House Type  Area in sq ft  \\\n",
       "3475   One Lillie Square  3350000   New development           1410   \n",
       "3476  St. James's Street  5275000  Flat / Apartment           1749   \n",
       "3477       Ingram Avenue  5995000             House           4435   \n",
       "3478         Cork Street  6300000   New development           1506   \n",
       "3479    Courtenay Avenue  8650000             House           5395   \n",
       "\n",
       "      No. of Bedrooms  No. of Bathrooms  No. of Receptions  \\\n",
       "3475                3                 3                  3   \n",
       "3476                3                 3                  3   \n",
       "3477                6                 6                  6   \n",
       "3478                3                 3                  3   \n",
       "3479                6                 6                  6   \n",
       "\n",
       "                     Location    City/County Postal Code  \n",
       "3475                      NaN  Lillie Square     SW6 1UE  \n",
       "3476               St James's         London    SW1A 1JT  \n",
       "3477  Hampstead Garden Suburb         London    NW11 6TG  \n",
       "3478                  Mayfair         London     W1S 3AR  \n",
       "3479                 Highgate         London      N6 4LP  "
      ]
     },
     "execution_count": 5,
     "metadata": {},
     "output_type": "execute_result"
    }
   ],
   "source": [
    "data.tail()"
   ]
  },
  {
   "cell_type": "code",
   "execution_count": 6,
   "id": "3502afb7-15b2-4e05-a030-aafcf10e3fb8",
   "metadata": {
    "tags": []
   },
   "outputs": [],
   "source": [
    "df = data[['Area in sq ft','Price']]"
   ]
  },
  {
   "cell_type": "code",
   "execution_count": 7,
   "id": "a966317b-4e02-4cb8-a8ab-e6e84945531c",
   "metadata": {
    "tags": []
   },
   "outputs": [
    {
     "name": "stderr",
     "output_type": "stream",
     "text": [
      "/tmp/ipykernel_22575/2445773331.py:1: SettingWithCopyWarning: \n",
      "A value is trying to be set on a copy of a slice from a DataFrame\n",
      "\n",
      "See the caveats in the documentation: https://pandas.pydata.org/pandas-docs/stable/user_guide/indexing.html#returning-a-view-versus-a-copy\n",
      "  df.rename(columns={'Area in sq ft': 'area_ft'}, inplace=True)\n",
      "/tmp/ipykernel_22575/2445773331.py:2: SettingWithCopyWarning: \n",
      "A value is trying to be set on a copy of a slice from a DataFrame\n",
      "\n",
      "See the caveats in the documentation: https://pandas.pydata.org/pandas-docs/stable/user_guide/indexing.html#returning-a-view-versus-a-copy\n",
      "  df.rename(columns={'Price': 'price'}, inplace=True)\n"
     ]
    }
   ],
   "source": [
    "df.rename(columns={'Area in sq ft': 'area_ft'}, inplace=True)\n",
    "df.rename(columns={'Price': 'price'}, inplace=True)"
   ]
  },
  {
   "cell_type": "code",
   "execution_count": 8,
   "id": "212860b5-83bc-435a-87bf-6221ba5b05f3",
   "metadata": {
    "tags": []
   },
   "outputs": [
    {
     "data": {
      "text/html": [
       "<div>\n",
       "<style scoped>\n",
       "    .dataframe tbody tr th:only-of-type {\n",
       "        vertical-align: middle;\n",
       "    }\n",
       "\n",
       "    .dataframe tbody tr th {\n",
       "        vertical-align: top;\n",
       "    }\n",
       "\n",
       "    .dataframe thead th {\n",
       "        text-align: right;\n",
       "    }\n",
       "</style>\n",
       "<table border=\"1\" class=\"dataframe\">\n",
       "  <thead>\n",
       "    <tr style=\"text-align: right;\">\n",
       "      <th></th>\n",
       "      <th>area_ft</th>\n",
       "      <th>price</th>\n",
       "    </tr>\n",
       "  </thead>\n",
       "  <tbody>\n",
       "    <tr>\n",
       "      <th>0</th>\n",
       "      <td>2716</td>\n",
       "      <td>1675000</td>\n",
       "    </tr>\n",
       "    <tr>\n",
       "      <th>1</th>\n",
       "      <td>814</td>\n",
       "      <td>650000</td>\n",
       "    </tr>\n",
       "    <tr>\n",
       "      <th>2</th>\n",
       "      <td>761</td>\n",
       "      <td>735000</td>\n",
       "    </tr>\n",
       "    <tr>\n",
       "      <th>3</th>\n",
       "      <td>1986</td>\n",
       "      <td>1765000</td>\n",
       "    </tr>\n",
       "    <tr>\n",
       "      <th>4</th>\n",
       "      <td>700</td>\n",
       "      <td>675000</td>\n",
       "    </tr>\n",
       "  </tbody>\n",
       "</table>\n",
       "</div>"
      ],
      "text/plain": [
       "   area_ft    price\n",
       "0     2716  1675000\n",
       "1      814   650000\n",
       "2      761   735000\n",
       "3     1986  1765000\n",
       "4      700   675000"
      ]
     },
     "execution_count": 8,
     "metadata": {},
     "output_type": "execute_result"
    }
   ],
   "source": [
    "df.head()"
   ]
  },
  {
   "cell_type": "code",
   "execution_count": 9,
   "id": "52aeaf20-c5be-493e-a1aa-970615d3ffcd",
   "metadata": {
    "tags": []
   },
   "outputs": [
    {
     "data": {
      "text/plain": [
       "Index(['area_ft', 'price'], dtype='object')"
      ]
     },
     "execution_count": 9,
     "metadata": {},
     "output_type": "execute_result"
    }
   ],
   "source": [
    "df.columns"
   ]
  },
  {
   "cell_type": "code",
   "execution_count": null,
   "id": "8bcc483a-7533-48e4-b34d-d57e94ea3423",
   "metadata": {},
   "outputs": [],
   "source": []
  },
  {
   "cell_type": "markdown",
   "id": "1a97ef58-d5ed-4e9f-9b12-c32be238c13a",
   "metadata": {},
   "source": [
    "## Checking the Data"
   ]
  },
  {
   "cell_type": "code",
   "execution_count": 10,
   "id": "a6b589c2-f650-4f88-a18d-143c1d67fe67",
   "metadata": {
    "tags": []
   },
   "outputs": [
    {
     "data": {
      "text/html": [
       "<div>\n",
       "<style scoped>\n",
       "    .dataframe tbody tr th:only-of-type {\n",
       "        vertical-align: middle;\n",
       "    }\n",
       "\n",
       "    .dataframe tbody tr th {\n",
       "        vertical-align: top;\n",
       "    }\n",
       "\n",
       "    .dataframe thead th {\n",
       "        text-align: right;\n",
       "    }\n",
       "</style>\n",
       "<table border=\"1\" class=\"dataframe\">\n",
       "  <thead>\n",
       "    <tr style=\"text-align: right;\">\n",
       "      <th></th>\n",
       "      <th>area_ft</th>\n",
       "      <th>price</th>\n",
       "    </tr>\n",
       "  </thead>\n",
       "  <tbody>\n",
       "    <tr>\n",
       "      <th>count</th>\n",
       "      <td>3480.00</td>\n",
       "      <td>3480.00</td>\n",
       "    </tr>\n",
       "    <tr>\n",
       "      <th>mean</th>\n",
       "      <td>1712.97</td>\n",
       "      <td>1864172.54</td>\n",
       "    </tr>\n",
       "    <tr>\n",
       "      <th>std</th>\n",
       "      <td>1364.26</td>\n",
       "      <td>2267282.96</td>\n",
       "    </tr>\n",
       "    <tr>\n",
       "      <th>min</th>\n",
       "      <td>274.00</td>\n",
       "      <td>180000.00</td>\n",
       "    </tr>\n",
       "    <tr>\n",
       "      <th>25%</th>\n",
       "      <td>834.00</td>\n",
       "      <td>750000.00</td>\n",
       "    </tr>\n",
       "    <tr>\n",
       "      <th>50%</th>\n",
       "      <td>1310.00</td>\n",
       "      <td>1220000.00</td>\n",
       "    </tr>\n",
       "    <tr>\n",
       "      <th>75%</th>\n",
       "      <td>2157.25</td>\n",
       "      <td>2150000.00</td>\n",
       "    </tr>\n",
       "    <tr>\n",
       "      <th>max</th>\n",
       "      <td>15405.00</td>\n",
       "      <td>39750000.00</td>\n",
       "    </tr>\n",
       "  </tbody>\n",
       "</table>\n",
       "</div>"
      ],
      "text/plain": [
       "       area_ft       price\n",
       "count  3480.00     3480.00\n",
       "mean   1712.97  1864172.54\n",
       "std    1364.26  2267282.96\n",
       "min     274.00   180000.00\n",
       "25%     834.00   750000.00\n",
       "50%    1310.00  1220000.00\n",
       "75%    2157.25  2150000.00\n",
       "max   15405.00 39750000.00"
      ]
     },
     "execution_count": 10,
     "metadata": {},
     "output_type": "execute_result"
    }
   ],
   "source": [
    "df.describe()"
   ]
  },
  {
   "cell_type": "code",
   "execution_count": 11,
   "id": "5f8c4cfa-3b64-48e8-aa85-a48fff32ad50",
   "metadata": {
    "tags": []
   },
   "outputs": [
    {
     "name": "stdout",
     "output_type": "stream",
     "text": [
      "<class 'pandas.core.frame.DataFrame'>\n",
      "RangeIndex: 3480 entries, 0 to 3479\n",
      "Data columns (total 2 columns):\n",
      " #   Column   Non-Null Count  Dtype\n",
      "---  ------   --------------  -----\n",
      " 0   area_ft  3480 non-null   int64\n",
      " 1   price    3480 non-null   int64\n",
      "dtypes: int64(2)\n",
      "memory usage: 54.5 KB\n"
     ]
    }
   ],
   "source": [
    "df.info()"
   ]
  },
  {
   "cell_type": "markdown",
   "id": "cff45c86-d2c8-4a96-b51e-d5369ab25012",
   "metadata": {},
   "source": [
    "## Understanding the Overall Distribution"
   ]
  },
  {
   "cell_type": "code",
   "execution_count": 12,
   "id": "eb8c45e8-3c28-4c18-9feb-bac1f9f84811",
   "metadata": {
    "tags": []
   },
   "outputs": [
    {
     "data": {
      "image/png": "[encoded data removed]",
      "text/plain": [
       "<Figure size 640x480 with 1 Axes>"
      ]
     },
     "metadata": {},
     "output_type": "display_data"
    }
   ],
   "source": [
    "# Plot the distribution of recency values\n",
    "plt.hist(df.area_ft, range=(0, 15405))\n",
    "plt.title(\"Area in Sqr. Feet Distribution\")\n",
    "plt.xlabel(\"area_ft\")\n",
    "plt.ylabel(\"Frequency\")\n",
    "plt.show()"
   ]
  },
  {
   "cell_type": "code",
   "execution_count": 13,
   "id": "19308869-b649-4652-90ce-fb32e6c63f36",
   "metadata": {
    "tags": []
   },
   "outputs": [
    {
     "data": {
      "image/png": "[encoded data removed]",
      "text/plain": [
       "<Figure size 640x480 with 1 Axes>"
      ]
     },
     "metadata": {},
     "output_type": "display_data"
    }
   ],
   "source": [
    "# Plot the distribution of recency values\n",
    "plt.hist(df.price)\n",
    "plt.title(\"Area in Sqr. Feet Distribution\")\n",
    "plt.xlabel(\"Price\")\n",
    "plt.ylabel(\"Frequency\")\n",
    "plt.show()"
   ]
  },
  {
   "cell_type": "markdown",
   "id": "24de67dc-47aa-4dec-85d4-176a7fe567f9",
   "metadata": {},
   "source": [
    "In this case we wanna use then a Gamma Distribution"
   ]
  },
  {
   "cell_type": "code",
   "execution_count": 14,
   "id": "357f6f52-c5bf-4a54-9ea0-331c66d418da",
   "metadata": {
    "tags": []
   },
   "outputs": [
    {
     "data": {
      "image/png": "[encoded data removed]",
      "text/plain": [
       "<Figure size 640x480 with 1 Axes>"
      ]
     },
     "metadata": {},
     "output_type": "display_data"
    }
   ],
   "source": [
    "# Parameters for the gamma distribution\n",
    "alpha = 1\n",
    "beta = 3\n",
    "\n",
    "# Generate x-values for the plot\n",
    "x = np.linspace(0, 10, 100)\n",
    "\n",
    "# Calculate the probability density function (PDF) for the gamma distribution\n",
    "pdf = gamma.pdf(x, alpha, scale=1/beta)\n",
    "\n",
    "# Plot the gamma distribution\n",
    "plt.plot(x, pdf, label='Gamma Distribution')\n",
    "\n",
    "# Add labels and a legend to the plot\n",
    "plt.xlabel('x')\n",
    "plt.ylabel('Probability Density')\n",
    "plt.legend()\n",
    "\n",
    "# Display the plot\n",
    "plt.show()"
   ]
  },
  {
   "cell_type": "markdown",
   "id": "05225f1d-178c-42e1-8eb7-1a4b4218a32b",
   "metadata": {},
   "source": [
    "## Understanding the Correlation"
   ]
  },
  {
   "cell_type": "code",
   "execution_count": 15,
   "id": "5382d7d2-34d1-480a-81a3-9a861945f2e1",
   "metadata": {
    "tags": []
   },
   "outputs": [
    {
     "data": {
      "image/png": "[encoded data removed]",
      "text/plain": [
       "<Figure size 640x480 with 1 Axes>"
      ]
     },
     "metadata": {},
     "output_type": "display_data"
    },
    {
     "name": "stdout",
     "output_type": "stream",
     "text": [
      "Correlation coefficient: 0.6677096038368738\n"
     ]
    }
   ],
   "source": [
    "# Select the two columns for the scatterplot\n",
    "x_column = 'area_ft'\n",
    "y_column = 'price'\n",
    "\n",
    "# Create the scatterplot\n",
    "plt.scatter(df[x_column], df[y_column])\n",
    "\n",
    "# Calculate the correlation between the two columns\n",
    "correlation = df[x_column].corr(df[y_column])\n",
    "\n",
    "# Add labels and a title to the plot\n",
    "plt.xlabel(x_column)\n",
    "plt.ylabel(y_column)\n",
    "plt.title('Scatterplot: {} vs {}\\nCorrelation: {:.2f}'.format(x_column, y_column, correlation))\n",
    "\n",
    "# Display the plot\n",
    "plt.show()\n",
    "\n",
    "# Print the correlation coefficient\n",
    "print('Correlation coefficient:', correlation)"
   ]
  },
  {
   "cell_type": "code",
   "execution_count": 16,
   "id": "107a7dee-9bd6-4ee8-b32b-b775b6bd9f94",
   "metadata": {
    "tags": []
   },
   "outputs": [
    {
     "name": "stdout",
     "output_type": "stream",
     "text": [
      "Equation: y = 1109.68x + -36674.05\n"
     ]
    }
   ],
   "source": [
    "from sklearn.linear_model import LinearRegression\n",
    "\n",
    "\n",
    "# Extract the features (x) and target variable (y)\n",
    "X = df[[x_column]]\n",
    "y = df[y_column]\n",
    "\n",
    "# Create a linear regression model\n",
    "model = LinearRegression()\n",
    "\n",
    "# Fit the model to the data\n",
    "model.fit(X, y)\n",
    "\n",
    "# Retrieve the coefficients and intercept of the linear regression equation\n",
    "coef = model.coef_[0]\n",
    "intercept = model.intercept_\n",
    "\n",
    "# Print the equation in the form y = mx + b\n",
    "print('Equation: y = {:.2f}x + {:.2f}'.format(coef, intercept))"
   ]
  },
  {
   "cell_type": "code",
   "execution_count": null,
   "id": "6a4d06a2-9de7-4ef2-a089-554f0dcf2c1f",
   "metadata": {
    "tags": []
   },
   "outputs": [
    {
     "name": "stderr",
     "output_type": "stream",
     "text": [
      "/home/ec2-user/anaconda3/envs/python3/lib/python3.10/site-packages/deprecat/classic.py:215: FutureWarning: In v4.0, pm.sample will return an `arviz.InferenceData` object instead of a `MultiTrace` by default. You can pass return_inferencedata=True or return_inferencedata=False to be safe and silence this warning.\n",
      "  return wrapped_(*args_, **kwargs_)\n",
      "Multiprocess sampling (10 chains in 10 jobs)\n",
      "CompoundStep\n",
      ">Slice: [beta_1]\n",
      ">Slice: [alpha]\n"
     ]
    },
    {
     "data": {
      "text/html": [
       "\n",
       "<style>\n",
       "    /* Turns off some styling */\n",
       "    progress {\n",
       "        /* gets rid of default border in Firefox and Opera. */\n",
       "        border: none;\n",
       "        /* Needs to be in here for Safari polyfill so background images work as expected. */\n",
       "        background-size: auto;\n",
       "    }\n",
       "    progress:not([value]), progress:not([value])::-webkit-progress-bar {\n",
       "        background: repeating-linear-gradient(45deg, #7e7e7e, #7e7e7e 10px, #5c5c5c 10px, #5c5c5c 20px);\n",
       "    }\n",
       "    .progress-bar-interrupted, .progress-bar-interrupted::-webkit-progress-bar {\n",
       "        background: #F44336;\n",
       "    }\n",
       "</style>\n"
      ],
      "text/plain": [
       "<IPython.core.display.HTML object>"
      ]
     },
     "metadata": {},
     "output_type": "display_data"
    },
    {
     "data": {
      "text/html": [
       "\n",
       "    <div>\n",
       "      <progress value='32001' class='' max='40000' style='width:300px; height:20px; vertical-align: middle;'></progress>\n",
       "      80.00% [32001/40000 24:25&lt;06:06 Sampling 10 chains, 0 divergences]\n",
       "    </div>\n",
       "    "
      ],
      "text/plain": [
       "<IPython.core.display.HTML object>"
      ]
     },
     "metadata": {},
     "output_type": "display_data"
    }
   ],
   "source": [
    "# create the model using pm.Model()\n",
    "with pm.Model() as model:\n",
    "    \n",
    "    #assign priors to the parameters\n",
    "    alpha = pm.Normal('alpha', mu=0, sd=20)\n",
    "    # alpha = pm.Uniform('alpha', lower=0, upper=10)\n",
    "    beta_1 = pm.Gamma('beta_1', alpha=1, beta=1)\n",
    "    \n",
    "    #expected value\n",
    "    mu = alpha + beta_1 * df.area_ft \n",
    "    \n",
    "    #likelihood\n",
    "    y_est = pm.Normal('y_est', mu=mu, sd=0.1, observed=df.price)\n",
    "    \n",
    " #predict\n",
    "\n",
    " #use pm.sample to predict the buckets\n",
    "    \n",
    "with model:\n",
    "    trace = pm.sample(1000, tune=3000, cores=10, step=pm.Slice())\n",
    "    # trace = pm.sample(2000, tune=2000, cores=1, step=pm.NUTS(target_accept=0.95))\n",
    "\n",
    "#extract the predicted values from the trace\n",
    "buckets_pred = pm.sample_posterior_predictive(trace, model=model, samples=1000, progressbar=False)\n",
    "\n",
    "#predict the bucket for each user\n",
    "df['bucket_pred']=np.median(buckets_pred['y_est'], axis=0)\n",
    "\n",
    "\n",
    "\n"
   ]
  },
  {
   "cell_type": "code",
   "execution_count": null,
   "id": "04852bec-f511-4707-bf15-a7f35bcb3b0a",
   "metadata": {
    "tags": []
   },
   "outputs": [],
   "source": [
    "df['sub'] = df['bucket_pred'].sub(df['price'])\n",
    "# average_difference"
   ]
  },
  {
   "cell_type": "code",
   "execution_count": null,
   "id": "9924452f-72c4-4b75-afd2-320b6d33487f",
   "metadata": {},
   "outputs": [],
   "source": [
    "df.head()"
   ]
  },
  {
   "cell_type": "code",
   "execution_count": null,
   "id": "3545f322-c684-473c-ac52-e411beb0f640",
   "metadata": {
    "tags": []
   },
   "outputs": [],
   "source": [
    "df['sub'].median()"
   ]
  },
  {
   "cell_type": "code",
   "execution_count": null,
   "id": "6754c5da-0578-4d9a-9746-da38afd1e2ed",
   "metadata": {},
   "outputs": [],
   "source": []
  }
 ],
 "metadata": {
  "kernelspec": {
   "display_name": "conda_python3",
   "language": "python",
   "name": "conda_python3"
  },
  "language_info": {
   "codemirror_mode": {
    "name": "ipython",
    "version": 3
   },
   "file_extension": ".py",
   "mimetype": "text/x-python",
   "name": "python",
   "nbconvert_exporter": "python",
   "pygments_lexer": "ipython3",
   "version": "3.10.8"
  }
 },
 "nbformat": 4,
 "nbformat_minor": 5
}
